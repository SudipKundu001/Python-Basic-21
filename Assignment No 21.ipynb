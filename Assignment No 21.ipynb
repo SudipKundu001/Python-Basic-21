{
 "cells": [
  {
   "cell_type": "markdown",
   "id": "4c2a6973",
   "metadata": {},
   "source": [
    ">__1. Add the current date to the text file today.txt as a string.__"
   ]
  },
  {
   "cell_type": "code",
   "execution_count": 8,
   "id": "d3ac2a8f",
   "metadata": {},
   "outputs": [],
   "source": [
    "from datetime import date\n",
    "\n",
    "with open(\"today.txt\",\"wt\") as fout:\n",
    "    now=date.today()\n",
    "    now_str=now.isoformat()\n",
    "    print(now_str,file=fout)"
   ]
  },
  {
   "cell_type": "markdown",
   "id": "ce439658",
   "metadata": {},
   "source": [
    ">__2. Read the text file today.txt into the string today_string__"
   ]
  },
  {
   "cell_type": "code",
   "execution_count": 9,
   "id": "d3944d4b",
   "metadata": {},
   "outputs": [
    {
     "data": {
      "text/plain": [
       "'2022-02-15\\n'"
      ]
     },
     "execution_count": 9,
     "metadata": {},
     "output_type": "execute_result"
    }
   ],
   "source": [
    "with open(\"today.txt\",\"rt\") as f:\n",
    "     today_string = f.read()\n",
    " \n",
    "today_string"
   ]
  },
  {
   "cell_type": "markdown",
   "id": "60753af6",
   "metadata": {},
   "source": [
    ">__3. Parse the date from today_string.__"
   ]
  },
  {
   "cell_type": "code",
   "execution_count": 10,
   "id": "33860ba0",
   "metadata": {},
   "outputs": [
    {
     "data": {
      "text/plain": [
       "time.struct_time(tm_year=2022, tm_mon=2, tm_mday=15, tm_hour=0, tm_min=0, tm_sec=0, tm_wday=1, tm_yday=46, tm_isdst=-1)"
      ]
     },
     "execution_count": 10,
     "metadata": {},
     "output_type": "execute_result"
    }
   ],
   "source": [
    "import time\n",
    "\n",
    "fmt=\"%Y-%m-%d\\n\"\n",
    "time.strptime(today_string,fmt)"
   ]
  },
  {
   "cell_type": "markdown",
   "id": "c22d6999",
   "metadata": {},
   "source": [
    ">__4. List the files in your current directory__"
   ]
  },
  {
   "cell_type": "code",
   "execution_count": 11,
   "id": "5a621152",
   "metadata": {},
   "outputs": [
    {
     "data": {
      "text/plain": [
       "['.ipynb_checkpoints',\n",
       " 'adwords___.txt',\n",
       " 'Assignment_21.docx',\n",
       " 'camp.xlsx',\n",
       " 'clinic.xlsx',\n",
       " 'Copy of Demo.ipynb - Colaboratory.pdf',\n",
       " 'Copy_of_Copy_of_Demo.ipynb',\n",
       " 'coursera applicaion.txt',\n",
       " 'desktop.ini',\n",
       " 'display_adds.csv',\n",
       " 'DWD',\n",
       " 'ec2-34-234-16-22.compute-1.amazonaws.com.rdp',\n",
       " 'facebook_Totaldata.csv',\n",
       " 'google_ads.csv',\n",
       " 'Inu',\n",
       " 'Laptop id.txt',\n",
       " 'McAfee.exe',\n",
       " 'Medicover_Auto_7th_Dec.ipynb',\n",
       " 'Medicover_Daily_Data.pdf',\n",
       " 'microsoft_cred.txt',\n",
       " 'mongo.txt',\n",
       " 'MongoDB.ipynb',\n",
       " 'My_Office_docs',\n",
       " 'NLP_hrarky.png',\n",
       " 'pf nominee.txt',\n",
       " 'Python codes.txt',\n",
       " 'R codes.txt',\n",
       " 'relieving Forms.zip',\n",
       " 'serv_py',\n",
       " 'setup-lightshot.exe',\n",
       " 'Taboola_Data.csv',\n",
       " 'today.txt',\n",
       " 'Untitled.ipynb',\n",
       " 'Untitled1.ipynb',\n",
       " 'Untitled2.ipynb',\n",
       " 'untitled3.py',\n",
       " 'Unyscape.csv',\n",
       " 'Youtube.Scraper.ipynb',\n",
       " 'Zoom.lnk']"
      ]
     },
     "execution_count": 11,
     "metadata": {},
     "output_type": "execute_result"
    }
   ],
   "source": [
    "import os\n",
    "os.listdir(\".\")"
   ]
  },
  {
   "cell_type": "markdown",
   "id": "b1f20956",
   "metadata": {},
   "source": [
    ">__5. Create a list of all of the files in your parent directory (minimum five files should be available).__"
   ]
  },
  {
   "cell_type": "code",
   "execution_count": 12,
   "id": "ad6940d8",
   "metadata": {},
   "outputs": [
    {
     "data": {
      "text/plain": [
       "['.conda',\n",
       " '.condarc',\n",
       " '.continuum',\n",
       " '.ipynb_checkpoints',\n",
       " '.ipython',\n",
       " '.jupyter',\n",
       " '.matplotlib',\n",
       " '.python_history',\n",
       " '.spyder-py3',\n",
       " '.vscode',\n",
       " '3D Objects',\n",
       " 'anaconda3',\n",
       " 'AppData',\n",
       " 'Application Data',\n",
       " 'books.db',\n",
       " 'Contacts',\n",
       " 'Cookies',\n",
       " 'Desktop',\n",
       " 'Documents',\n",
       " 'Downloads',\n",
       " 'Favorites',\n",
       " 'IntelGraphicsProfiles',\n",
       " 'Jedi',\n",
       " 'Links',\n",
       " 'Local Settings',\n",
       " 'Music',\n",
       " 'My Documents',\n",
       " 'NetHood',\n",
       " 'NTUSER.DAT',\n",
       " 'ntuser.dat.LOG1',\n",
       " 'ntuser.dat.LOG2',\n",
       " 'NTUSER.DAT{af3e95c7-5763-11ec-9602-d1cad9e34712}.TM.blf',\n",
       " 'NTUSER.DAT{af3e95c7-5763-11ec-9602-d1cad9e34712}.TMContainer00000000000000000001.regtrans-ms',\n",
       " 'NTUSER.DAT{af3e95c7-5763-11ec-9602-d1cad9e34712}.TMContainer00000000000000000002.regtrans-ms',\n",
       " 'ntuser.ini',\n",
       " 'OneDrive',\n",
       " 'Pictures',\n",
       " 'PrintHood',\n",
       " 'Recent',\n",
       " 'Saved Games',\n",
       " 'Searches',\n",
       " 'SendTo',\n",
       " 'Start Menu',\n",
       " 'Templates',\n",
       " 'Tracing',\n",
       " 'Videos']"
      ]
     },
     "execution_count": 12,
     "metadata": {},
     "output_type": "execute_result"
    }
   ],
   "source": [
    " os.listdir(\"..\")"
   ]
  },
  {
   "cell_type": "markdown",
   "id": "08a43df1",
   "metadata": {},
   "source": [
    ">__6. Use multiprocessing to create three separate processes. Make each one wait a random number of seconds between one and five, print the current time, and then exit.__"
   ]
  },
  {
   "cell_type": "code",
   "execution_count": 16,
   "id": "aada66da",
   "metadata": {},
   "outputs": [],
   "source": [
    "import multiprocessing\n",
    "import os\n",
    "\n",
    "def now(seconds):\n",
    "    from datetime import datetime\n",
    "    from time import sleep\n",
    "    sleep(seconds)\n",
    "    print(\"wait\", seconds, \"second, time is \", datetime.utcnow())\n",
    "\n",
    "if __name__== \"__main__\":\n",
    "    import random\n",
    "    for n in range(3):\n",
    "        seconds=random.random()\n",
    "        proc=multiprocessing.Process(target=now, args=(seconds,))\n",
    "        proc.start()\n"
   ]
  },
  {
   "cell_type": "markdown",
   "id": "3070e0ab",
   "metadata": {},
   "source": [
    ">__7. Create a date object of your day of birth.__"
   ]
  },
  {
   "cell_type": "code",
   "execution_count": 21,
   "id": "85414f3d",
   "metadata": {},
   "outputs": [
    {
     "data": {
      "text/plain": [
       "datetime.date(1992, 2, 20)"
      ]
     },
     "execution_count": 21,
     "metadata": {},
     "output_type": "execute_result"
    }
   ],
   "source": [
    "from datetime import date\n",
    "birthday=date(1992,2,20)\n",
    "birthday"
   ]
  },
  {
   "cell_type": "markdown",
   "id": "629aaa05",
   "metadata": {},
   "source": [
    ">__8. What day of the week was your day of birth?__"
   ]
  },
  {
   "cell_type": "code",
   "execution_count": 22,
   "id": "9133642a",
   "metadata": {},
   "outputs": [
    {
     "data": {
      "text/plain": [
       "'1992-02-20-Thursday'"
      ]
     },
     "execution_count": 22,
     "metadata": {},
     "output_type": "execute_result"
    }
   ],
   "source": [
    "fmt=\"%Y-%m-%d-%A\"\n",
    "date.strftime(birthday,fmt)"
   ]
  },
  {
   "cell_type": "markdown",
   "id": "3e91d46e",
   "metadata": {},
   "source": [
    ">__9. When will you be (or when were you) 10,000 days old?__"
   ]
  },
  {
   "cell_type": "code",
   "execution_count": 23,
   "id": "1e537570",
   "metadata": {},
   "outputs": [
    {
     "data": {
      "text/plain": [
       "datetime.date(2019, 7, 8)"
      ]
     },
     "execution_count": 23,
     "metadata": {},
     "output_type": "execute_result"
    }
   ],
   "source": [
    "from datetime import timedelta\n",
    "day=timedelta(days=10000)\n",
    "A=birthday+day\n",
    "A"
   ]
  },
  {
   "cell_type": "code",
   "execution_count": null,
   "id": "88b77774",
   "metadata": {},
   "outputs": [],
   "source": []
  }
 ],
 "metadata": {
  "kernelspec": {
   "display_name": "Python 3",
   "language": "python",
   "name": "python3"
  },
  "language_info": {
   "codemirror_mode": {
    "name": "ipython",
    "version": 3
   },
   "file_extension": ".py",
   "mimetype": "text/x-python",
   "name": "python",
   "nbconvert_exporter": "python",
   "pygments_lexer": "ipython3",
   "version": "3.8.8"
  }
 },
 "nbformat": 4,
 "nbformat_minor": 5
}
